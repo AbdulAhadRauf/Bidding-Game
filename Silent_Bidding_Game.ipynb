{
  "nbformat": 4,
  "nbformat_minor": 0,
  "metadata": {
    "colab": {
      "provenance": [],
      "authorship_tag": "ABX9TyOE3EGZmJpQWGOveWFu6Cue",
      "include_colab_link": true
    },
    "kernelspec": {
      "name": "python3",
      "display_name": "Python 3"
    },
    "language_info": {
      "name": "python"
    }
  },
  "cells": [
    {
      "cell_type": "markdown",
      "metadata": {
        "id": "view-in-github",
        "colab_type": "text"
      },
      "source": [
        "<a href=\"https://colab.research.google.com/github/AbdulAhadRauf/Bidding-Game/blob/main/Silent_Bidding_Game.ipynb\" target=\"_parent\"><img src=\"https://colab.research.google.com/assets/colab-badge.svg\" alt=\"Open In Colab\"/></a>"
      ]
    },
    {
      "cell_type": "markdown",
      "source": [
        "# Dictionary"
      ],
      "metadata": {
        "id": "BsD-Jc2O2BtO"
      }
    },
    {
      "cell_type": "markdown",
      "source": [
        "Grading exercise\n",
        "---"
      ],
      "metadata": {
        "id": "o9pvi7s72O0z"
      }
    },
    {
      "cell_type": "code",
      "execution_count": null,
      "metadata": {
        "id": "zHG8aoIz2Ayo"
      },
      "outputs": [],
      "source": [
        "score_dict = {'Harry' : 80,\n",
        "    \"Ron\" : 78,\n",
        "    \"Hermoinie\" : 99,\n",
        "    'Draco' : 74,\n",
        "    \"Nevil\" : 62}\n",
        "\n",
        "final_score={}\n",
        "for i in score_dict:\n",
        "  if score_dict[i] > 90:\n",
        "    final_score[i] =\"A\"\n",
        "  elif 60 <= score_dict[i] < 90:\n",
        "    final_score[i]=\"B\"\n",
        "  elif 30 <= score_dict[i] < 60:\n",
        "    final_score[i]=\"C\"\n",
        "  else:\n",
        "    final_score[i]=\"Fail\"\n",
        "print(final_score)"
      ]
    },
    {
      "cell_type": "markdown",
      "source": [
        "Nested List and Dict\n",
        "---"
      ],
      "metadata": {
        "id": "6YrGpDjt-6It"
      }
    },
    {
      "cell_type": "code",
      "source": [],
      "metadata": {
        "id": "ydpHifoZGaAl"
      },
      "execution_count": null,
      "outputs": []
    },
    {
      "cell_type": "code",
      "source": [
        "travel_log = [\n",
        "{\n",
        "  \"country\": \"France\",\n",
        "  \"visits\": 12,\n",
        "  \"cities\": [\"Paris\", \"Lille\", \"Dijon\"]\n",
        "},\n",
        "{\n",
        "  \"country\": \"Germany\",\n",
        "  \"visits\": 5,\n",
        "  \"cities\": [\"Berlin\", \"Hamburg\", \"Stuttgart\"]\n",
        "}\n",
        "]\n",
        "\n",
        "'''list {dict(key value , key value, key list)}'''\n",
        "\n",
        "def add_new_country(country, visited, List):\n",
        "  new_country={}\n",
        "  new_country[\"country\"]= country\n",
        "  new_country[\"visits\"]= visited\n",
        "  new_country[\"cities\"] = List\n",
        "  travel_log.append(new_country)\n",
        "\n",
        "add_new_country(\"Russia\", 2, [\"Moscow\", \"Saint Petersburg\"])\n",
        "print(travel_log)"
      ],
      "metadata": {
        "colab": {
          "base_uri": "https://localhost:8080/"
        },
        "id": "KGMmeqefGJ7m",
        "outputId": "0040c65f-813b-4708-91f9-eb43ec2810fa"
      },
      "execution_count": null,
      "outputs": [
        {
          "output_type": "stream",
          "name": "stdout",
          "text": [
            "[{'country': 'France', 'visits': 12, 'cities': ['Paris', 'Lille', 'Dijon']}, {'country': 'Germany', 'visits': 5, 'cities': ['Berlin', 'Hamburg', 'Stuttgart']}, {'country': 'Russia', 'visits': 2, 'cities': ['Moscow', 'Saint Petersburg']}]\n"
          ]
        }
      ]
    },
    {
      "cell_type": "markdown",
      "source": [
        "Silent Bidding Game\n",
        "---"
      ],
      "metadata": {
        "id": "fLOSC516blHn"
      }
    },
    {
      "cell_type": "code",
      "source": [
        "from google.colab import output\n",
        "\n",
        "def calculator(bidders):\n",
        "  max=0\n",
        "  winner=\"\"\n",
        "  for people in bidders:\n",
        "    value = bidders[people]\n",
        "    if value>max:\n",
        "      max = value\n",
        "      winner = people.upper()\n",
        "  print(f\"The winner to the Bidding is {winner} with a bid of ${max}\")\n",
        "\n",
        "bidders={}\n",
        "go = \"y\"\n",
        "while 'y' in go:\n",
        "  name = input('Enter your name: ')\n",
        "  bid = int(input('Enter the bidding amount: $'))\n",
        "  bidders[name]=bid\n",
        "  go = input('Are there any more bidders? Y/N ')\n",
        "  output.clear()\n",
        "  if \"n\" in go:\n",
        "    calculator(bidders)\n"
      ],
      "metadata": {
        "colab": {
          "base_uri": "https://localhost:8080/"
        },
        "id": "d14xqoEoq6tg",
        "outputId": "81c61e2c-0860-4ffa-e857-75b5a3c6d895"
      },
      "execution_count": null,
      "outputs": [
        {
          "output_type": "stream",
          "name": "stdout",
          "text": [
            "The winner to the Bidding is A with a bid of $600\n"
          ]
        }
      ]
    }
  ]
}